{
 "cells": [
  {
   "cell_type": "code",
   "execution_count": 19,
   "id": "cbabcfee",
   "metadata": {},
   "outputs": [],
   "source": [
    "import sys\n",
    "import csv\n",
    "import datetime\n",
    "import numpy as np\n",
    "import pandas as pd\n",
    "import pickle\n",
    "import matplotlib.pyplot as plt\n",
    "from datetime import datetime\n",
    "#import gender_guess.detector as gender\n",
    "#from sklearn.preprocessing import Imputer\n",
    "from sklearn import model_selection\n",
    "from sklearn import metrics\n",
    "from sklearn import preprocessing\n",
    "from sklearn.linear_model import LinearRegression\n",
    "from sklearn.svm import SVC\n",
    "from sklearn.metrics import roc_curve, auc\n",
    "from  sklearn.ensemble import RandomForestClassifier\n",
    "from sklearn.model_selection import StratifiedKFold, train_test_split\n",
    "from sklearn.model_selection import RandomizedSearchCV\n",
    "from sklearn.model_selection import GridSearchCV\n",
    "from sklearn.model_selection import train_test_split\n",
    "from sklearn.metrics import accuracy_score\n",
    "from sklearn.model_selection import learning_curve,GridSearchCV\n",
    "from sklearn.metrics import classification_report\n",
    "from sklearn.metrics import confusion_matrix\n",
    "%matplotlib inline "
   ]
  },
  {
   "cell_type": "code",
   "execution_count": 38,
   "id": "18fdf20c",
   "metadata": {},
   "outputs": [],
   "source": [
    "from xgboost import XGBClassifier\n",
    "from sklearn.model_selection import train_test_split\n",
    "from sklearn.metrics import accuracy_score"
   ]
  },
  {
   "cell_type": "code",
   "execution_count": 20,
   "id": "195ba9ef",
   "metadata": {},
   "outputs": [],
   "source": [
    "    genuine_users = pd.read_csv(\"users (3).csv\")\n",
    "    fake_users = pd.read_csv(\"fusers (3).csv\")\n",
    "    # print genuine_users.columns\n",
    "    # print genuine_users.describe()\n",
    "    #print fake_users.describe()\n",
    "    X=pd.concat([genuine_users,fake_users])   \n",
    "    y=len(fake_users)*[0] + len(genuine_users)*[1]"
   ]
  },
  {
   "cell_type": "code",
   "execution_count": 21,
   "id": "a9fbe9e4",
   "metadata": {},
   "outputs": [
    {
     "data": {
      "text/plain": [
       "(1481, 34)"
      ]
     },
     "execution_count": 21,
     "metadata": {},
     "output_type": "execute_result"
    }
   ],
   "source": [
    "  genuine_users.shape"
   ]
  },
  {
   "cell_type": "code",
   "execution_count": 22,
   "id": "741d5822",
   "metadata": {},
   "outputs": [],
   "source": [
    "lang_list = list(enumerate(np.unique(X['lang'])))   \n",
    "lang_dict = { name : i for i, name in lang_list }             \n",
    "X.loc[:,'lang_code'] = X['lang'].map( lambda X: lang_dict[X]).astype(int)  \n",
    "feature_columns_to_use = ['statuses_count','followers_count','friends_count','favourites_count','listed_count','lang_code']\n",
    "X=X.loc[:,feature_columns_to_use]"
   ]
  },
  {
   "cell_type": "code",
   "execution_count": 23,
   "id": "798cf8f0",
   "metadata": {},
   "outputs": [
    {
     "data": {
      "text/html": [
       "<div>\n",
       "<style scoped>\n",
       "    .dataframe tbody tr th:only-of-type {\n",
       "        vertical-align: middle;\n",
       "    }\n",
       "\n",
       "    .dataframe tbody tr th {\n",
       "        vertical-align: top;\n",
       "    }\n",
       "\n",
       "    .dataframe thead th {\n",
       "        text-align: right;\n",
       "    }\n",
       "</style>\n",
       "<table border=\"1\" class=\"dataframe\">\n",
       "  <thead>\n",
       "    <tr style=\"text-align: right;\">\n",
       "      <th></th>\n",
       "      <th>statuses_count</th>\n",
       "      <th>followers_count</th>\n",
       "      <th>friends_count</th>\n",
       "      <th>favourites_count</th>\n",
       "      <th>listed_count</th>\n",
       "      <th>lang_code</th>\n",
       "    </tr>\n",
       "  </thead>\n",
       "  <tbody>\n",
       "    <tr>\n",
       "      <th>0</th>\n",
       "      <td>20370</td>\n",
       "      <td>5470</td>\n",
       "      <td>2385</td>\n",
       "      <td>145</td>\n",
       "      <td>52</td>\n",
       "      <td>5</td>\n",
       "    </tr>\n",
       "    <tr>\n",
       "      <th>1</th>\n",
       "      <td>3131</td>\n",
       "      <td>506</td>\n",
       "      <td>381</td>\n",
       "      <td>9</td>\n",
       "      <td>40</td>\n",
       "      <td>1</td>\n",
       "    </tr>\n",
       "    <tr>\n",
       "      <th>2</th>\n",
       "      <td>4024</td>\n",
       "      <td>264</td>\n",
       "      <td>87</td>\n",
       "      <td>323</td>\n",
       "      <td>16</td>\n",
       "      <td>1</td>\n",
       "    </tr>\n",
       "    <tr>\n",
       "      <th>3</th>\n",
       "      <td>40586</td>\n",
       "      <td>640</td>\n",
       "      <td>622</td>\n",
       "      <td>1118</td>\n",
       "      <td>32</td>\n",
       "      <td>1</td>\n",
       "    </tr>\n",
       "    <tr>\n",
       "      <th>4</th>\n",
       "      <td>2016</td>\n",
       "      <td>62</td>\n",
       "      <td>64</td>\n",
       "      <td>13</td>\n",
       "      <td>0</td>\n",
       "      <td>5</td>\n",
       "    </tr>\n",
       "    <tr>\n",
       "      <th>...</th>\n",
       "      <td>...</td>\n",
       "      <td>...</td>\n",
       "      <td>...</td>\n",
       "      <td>...</td>\n",
       "      <td>...</td>\n",
       "      <td>...</td>\n",
       "    </tr>\n",
       "    <tr>\n",
       "      <th>1332</th>\n",
       "      <td>1</td>\n",
       "      <td>0</td>\n",
       "      <td>17</td>\n",
       "      <td>0</td>\n",
       "      <td>0</td>\n",
       "      <td>1</td>\n",
       "    </tr>\n",
       "    <tr>\n",
       "      <th>1333</th>\n",
       "      <td>0</td>\n",
       "      <td>1</td>\n",
       "      <td>17</td>\n",
       "      <td>0</td>\n",
       "      <td>0</td>\n",
       "      <td>1</td>\n",
       "    </tr>\n",
       "    <tr>\n",
       "      <th>1334</th>\n",
       "      <td>2</td>\n",
       "      <td>0</td>\n",
       "      <td>15</td>\n",
       "      <td>0</td>\n",
       "      <td>0</td>\n",
       "      <td>1</td>\n",
       "    </tr>\n",
       "    <tr>\n",
       "      <th>1335</th>\n",
       "      <td>2</td>\n",
       "      <td>0</td>\n",
       "      <td>16</td>\n",
       "      <td>0</td>\n",
       "      <td>0</td>\n",
       "      <td>1</td>\n",
       "    </tr>\n",
       "    <tr>\n",
       "      <th>1336</th>\n",
       "      <td>0</td>\n",
       "      <td>0</td>\n",
       "      <td>17</td>\n",
       "      <td>0</td>\n",
       "      <td>0</td>\n",
       "      <td>1</td>\n",
       "    </tr>\n",
       "  </tbody>\n",
       "</table>\n",
       "<p>2818 rows × 6 columns</p>\n",
       "</div>"
      ],
      "text/plain": [
       "      statuses_count  followers_count  friends_count  favourites_count  \\\n",
       "0              20370             5470           2385               145   \n",
       "1               3131              506            381                 9   \n",
       "2               4024              264             87               323   \n",
       "3              40586              640            622              1118   \n",
       "4               2016               62             64                13   \n",
       "...              ...              ...            ...               ...   \n",
       "1332               1                0             17                 0   \n",
       "1333               0                1             17                 0   \n",
       "1334               2                0             15                 0   \n",
       "1335               2                0             16                 0   \n",
       "1336               0                0             17                 0   \n",
       "\n",
       "      listed_count  lang_code  \n",
       "0               52          5  \n",
       "1               40          1  \n",
       "2               16          1  \n",
       "3               32          1  \n",
       "4                0          5  \n",
       "...            ...        ...  \n",
       "1332             0          1  \n",
       "1333             0          1  \n",
       "1334             0          1  \n",
       "1335             0          1  \n",
       "1336             0          1  \n",
       "\n",
       "[2818 rows x 6 columns]"
      ]
     },
     "execution_count": 23,
     "metadata": {},
     "output_type": "execute_result"
    }
   ],
   "source": [
    "X\n"
   ]
  },
  {
   "cell_type": "code",
   "execution_count": 24,
   "id": "31825d43",
   "metadata": {},
   "outputs": [
    {
     "data": {
      "text/plain": [
       "[]"
      ]
     },
     "execution_count": 24,
     "metadata": {},
     "output_type": "execute_result"
    }
   ],
   "source": [
    "cats = X.select_dtypes(exclude=np.number).columns.tolist()\n",
    "cats"
   ]
  },
  {
   "cell_type": "code",
   "execution_count": 25,
   "id": "1cf21edc",
   "metadata": {},
   "outputs": [
    {
     "data": {
      "text/plain": [
       "statuses_count      int64\n",
       "followers_count     int64\n",
       "friends_count       int64\n",
       "favourites_count    int64\n",
       "listed_count        int64\n",
       "lang_code           int32\n",
       "dtype: object"
      ]
     },
     "execution_count": 25,
     "metadata": {},
     "output_type": "execute_result"
    }
   ],
   "source": [
    "X.dtypes"
   ]
  },
  {
   "cell_type": "code",
   "execution_count": 26,
   "id": "680e0961",
   "metadata": {},
   "outputs": [],
   "source": [
    "for col in cats:\n",
    "   X[col] = X[col].astype('category')"
   ]
  },
  {
   "cell_type": "code",
   "execution_count": 27,
   "id": "477fadfe",
   "metadata": {},
   "outputs": [
    {
     "data": {
      "text/plain": [
       "statuses_count      int64\n",
       "followers_count     int64\n",
       "friends_count       int64\n",
       "favourites_count    int64\n",
       "listed_count        int64\n",
       "lang_code           int32\n",
       "dtype: object"
      ]
     },
     "execution_count": 27,
     "metadata": {},
     "output_type": "execute_result"
    }
   ],
   "source": [
    "X.dtypes"
   ]
  },
  {
   "cell_type": "code",
   "execution_count": 28,
   "id": "6500a0fb",
   "metadata": {},
   "outputs": [],
   "source": [
    "X_train, X_test, y_train, y_test = train_test_split(X, y, random_state=1)"
   ]
  },
  {
   "cell_type": "code",
   "execution_count": 29,
   "id": "82870736",
   "metadata": {},
   "outputs": [],
   "source": [
    "dtrain_reg = xgb.DMatrix(X_train, y_train, enable_categorical=True)\n",
    "dtest_reg = xgb.DMatrix(X_test, y_test, enable_categorical=True)"
   ]
  },
  {
   "cell_type": "code",
   "execution_count": 30,
   "id": "5ee07571",
   "metadata": {},
   "outputs": [],
   "source": [
    "params = {\"objective\": \"reg:squarederror\", \"tree_method\": \"gpu_hist\"}\n",
    "\n",
    "n = 100\n",
    "model = xgb.train(\n",
    "   params=params,\n",
    "   dtrain=dtrain_reg,\n",
    "   num_boost_round=n,\n",
    ")"
   ]
  },
  {
   "cell_type": "code",
   "execution_count": 31,
   "id": "24714fc9",
   "metadata": {},
   "outputs": [],
   "source": [
    "\n",
    "preds = model.predict(dtest_reg)"
   ]
  },
  {
   "cell_type": "code",
   "execution_count": 32,
   "id": "1b10a49e",
   "metadata": {},
   "outputs": [
    {
     "data": {
      "text/plain": [
       "array([ 3.36788297e-02,  1.00064468e+00,  1.00077999e+00,  1.00062680e+00,\n",
       "        1.00064468e+00,  6.07029349e-02,  9.99408960e-01, -5.14361188e-02,\n",
       "        9.93922889e-01, -3.45964953e-02,  4.69851680e-03,  2.07720399e-01,\n",
       "        9.05026961e-03,  6.00328863e-01, -6.23373426e-02,  1.00062680e+00,\n",
       "        9.99428391e-01,  8.09995010e-02,  1.00105369e+00,  2.12455466e-02,\n",
       "        5.43832362e-01,  1.00021183e+00,  4.67143655e-01,  1.00022972e+00,\n",
       "        9.99691129e-01,  1.00021183e+00,  1.00064468e+00,  3.16106118e-02,\n",
       "        3.21781030e-04,  2.89249122e-01,  4.29890513e-01,  2.15645805e-02,\n",
       "        1.00064468e+00, -4.43838015e-02,  1.00064468e+00,  9.99691129e-01,\n",
       "        1.00062680e+00,  3.06835860e-01, -9.79312882e-02,  1.00062680e+00,\n",
       "        1.00062680e+00,  1.00141895e+00, -2.86630215e-03,  2.68480152e-01,\n",
       "        1.00062680e+00,  6.65597990e-02,  9.96759057e-01,  8.89568776e-03,\n",
       "        2.48253923e-02,  1.00064468e+00,  9.99691129e-01,  9.99691129e-01,\n",
       "        8.53838027e-02,  1.00064468e+00,  1.00022972e+00, -4.56583500e-03,\n",
       "        6.12701476e-01,  1.00064468e+00, -1.80974714e-02,  9.99408960e-01,\n",
       "        1.00062680e+00, -1.29770138e-03,  1.00064468e+00,  1.00212276e+00,\n",
       "       -7.79983681e-03,  2.75635183e-01,  1.00062680e+00,  9.94565487e-01,\n",
       "        2.57577926e-01, -4.51492034e-02,  4.19362634e-01,  3.96288186e-02,\n",
       "        9.99691129e-01,  4.74910766e-01, -3.01650129e-02,  2.81861842e-01,\n",
       "        7.99078345e-02,  1.00062680e+00,  3.66317630e-01,  1.00062680e+00,\n",
       "       -5.15669174e-02,  1.00062680e+00,  1.00062680e+00,  7.86716118e-04,\n",
       "       -2.64082551e-02,  1.00064468e+00,  7.34821782e-02,  8.78590122e-02,\n",
       "        1.00064468e+00,  1.00064468e+00,  1.00085926e+00,  1.00146866e+00,\n",
       "        1.00064468e+00,  6.47014916e-01, -3.75089981e-02, -6.24848576e-03,\n",
       "        1.00064468e+00,  1.00064468e+00, -7.75132477e-02, -6.88600400e-03,\n",
       "        9.99691129e-01, -1.85006997e-03,  5.08909151e-02,  1.00146866e+00,\n",
       "        1.00062680e+00,  1.00064468e+00,  8.06055740e-02,  9.99408960e-01,\n",
       "        8.68830830e-02, -4.90040891e-02,  9.97601211e-01,  9.99691129e-01,\n",
       "        7.41989762e-02,  1.00062680e+00,  4.11321342e-01,  1.00051486e+00,\n",
       "        9.18791294e-02,  1.00064468e+00,  1.00077999e+00,  9.99203622e-01,\n",
       "        4.30703163e-03,  4.02332127e-01, -6.73787575e-03,  1.85934901e-02,\n",
       "        1.00062680e+00,  2.44784296e-01, -1.54236302e-01, -2.39981581e-02,\n",
       "       -1.46525539e-02,  1.02218546e-01,  9.98016179e-01,  1.69570491e-01,\n",
       "       -5.17278817e-03,  1.00064468e+00,  9.97062385e-01,  6.24151109e-03,\n",
       "        6.35069549e-01,  1.00062680e+00,  3.79541904e-01,  7.99702667e-03,\n",
       "        1.00468576e+00,  1.00051486e+00,  1.00146866e+00,  1.00062680e+00,\n",
       "        9.99203622e-01, -2.15035640e-02,  9.99691129e-01, -6.74359873e-02,\n",
       "        1.38416573e-01,  9.98661935e-01,  8.17378223e-01,  1.00077999e+00,\n",
       "        1.00146866e+00,  2.46728152e-01,  1.00062680e+00, -3.08496617e-02,\n",
       "        1.00051486e+00, -6.29481152e-02,  8.52378845e-01,  5.05002365e-02,\n",
       "       -2.10809242e-02,  3.87268187e-03,  1.00062680e+00,  2.57151991e-01,\n",
       "        9.96759057e-01,  8.92923772e-02,  1.00064468e+00,  4.49862517e-02,\n",
       "        1.00064468e+00,  3.93067390e-01,  1.00212276e+00, -1.77379735e-02,\n",
       "        9.99478161e-01,  1.00064468e+00, -3.82086709e-02,  3.93033564e-01,\n",
       "        1.00064468e+00,  1.00064468e+00, -7.15421839e-03,  9.99408960e-01,\n",
       "        7.67339706e-01,  1.02578387e-01,  1.01396239e+00, -1.76341478e-02,\n",
       "        1.00062680e+00,  1.85246736e-01,  5.47220469e-01,  1.27259210e-01,\n",
       "       -4.15888913e-02,  1.00064468e+00,  9.99402940e-01,  1.00141895e+00,\n",
       "       -1.31693087e-03, -1.64461546e-02, -2.45308299e-02, -6.00143801e-03,\n",
       "        5.17109156e-01,  8.93902779e-02,  2.12409526e-01,  3.21325213e-01,\n",
       "        2.13131513e-02,  2.42437199e-01,  1.00062680e+00,  7.48129189e-02,\n",
       "        1.00062680e+00, -1.78988092e-02,  8.66680965e-03,  8.81861448e-02,\n",
       "        1.00264513e+00,  1.00062680e+00,  9.89680588e-01,  9.99691129e-01,\n",
       "        9.96759057e-01,  1.00064468e+00,  2.24674091e-01,  1.45016797e-02,\n",
       "        1.00064468e+00,  1.00141895e+00,  1.00064468e+00,  1.01853132e+00,\n",
       "        9.99203622e-01,  1.00064468e+00,  9.99203622e-01, -2.65624207e-02,\n",
       "        1.06034301e-01,  8.30339640e-02,  1.00021183e+00,  1.00064468e+00,\n",
       "       -1.22971321e-02,  9.98016179e-01,  1.00062680e+00,  2.21452061e-02,\n",
       "        1.17053054e-02,  9.96759057e-01,  1.00062680e+00, -4.22766097e-02,\n",
       "        1.41085148e-01,  4.49013442e-01,  2.40999967e-01,  1.00062680e+00,\n",
       "        3.05037554e-02,  2.59422064e-01,  9.99691129e-01,  1.00064468e+00,\n",
       "        1.00064468e+00,  9.99546945e-01,  2.04561859e-01,  1.00064468e+00,\n",
       "        1.25463754e-02, -2.70872805e-02, -1.32617876e-02,  1.00062680e+00,\n",
       "        3.60160500e-01, -2.35139318e-02,  9.98016179e-01,  9.99428391e-01,\n",
       "        9.99691129e-01, -1.83471683e-02,  1.00062680e+00,  9.15974826e-02,\n",
       "        9.97062385e-01,  1.35163013e-02,  1.00064468e+00,  1.04011729e-01,\n",
       "        1.00062680e+00,  1.70475721e-01, -2.70632040e-02,  1.00062680e+00,\n",
       "        1.00064468e+00,  9.03122406e-03,  1.00062680e+00,  1.00064468e+00,\n",
       "       -4.25273776e-02, -3.80741693e-02,  8.44294190e-01,  1.00062680e+00,\n",
       "        1.00062680e+00, -1.31910041e-01,  2.21570246e-02,  1.00141895e+00,\n",
       "        7.21487775e-02,  3.82664725e-02,  3.32287520e-01,  6.47871345e-02,\n",
       "        6.62809163e-02, -2.27832645e-02,  4.33565788e-02,  1.33837625e-01,\n",
       "        1.00141895e+00,  1.00062680e+00,  1.00064468e+00,  6.94034517e-01,\n",
       "        1.88538268e-01,  1.00062680e+00,  4.88573834e-02, -1.32937385e-02,\n",
       "        9.51021444e-03,  3.20892602e-01,  3.30145545e-02,  1.00062680e+00,\n",
       "        3.41480136e-01,  1.00062680e+00,  8.19978341e-02,  1.00064468e+00,\n",
       "        9.99691129e-01,  5.18299699e-01,  3.20242673e-01,  1.00064468e+00,\n",
       "        1.00062680e+00,  5.84524646e-02,  9.99408960e-01,  3.44110966e-01,\n",
       "        1.00064468e+00,  1.00064468e+00,  9.94338512e-01,  1.09355330e-01,\n",
       "        9.97708142e-01,  9.01254714e-02,  1.41418234e-01,  1.00064468e+00,\n",
       "        1.00062680e+00,  9.99673188e-01,  7.91318476e-01,  6.03030026e-01,\n",
       "        2.40902267e-02,  1.00373197e+00, -5.64465374e-02,  1.99981057e-03,\n",
       "        3.42569686e-02,  1.00064468e+00,  4.16374169e-02,  9.99691129e-01,\n",
       "        1.00062680e+00,  3.61044072e-02,  1.00064468e+00,  2.21642435e-01,\n",
       "       -1.27303656e-02,  1.00064468e+00,  2.45781347e-01,  3.29656377e-02,\n",
       "        9.99691129e-01,  1.00064468e+00,  9.99691129e-01,  9.98016179e-01,\n",
       "        3.61739248e-01,  1.00062680e+00,  1.00087714e+00, -2.79928371e-02,\n",
       "        9.98943269e-01,  9.97062385e-01,  1.00064468e+00,  1.72441527e-01,\n",
       "        5.83939590e-02,  3.21388990e-01, -7.43009970e-02,  3.08361594e-02,\n",
       "        9.99691129e-01, -1.64867155e-02, -5.19855833e-03,  7.48354569e-03,\n",
       "        1.01869339e-02, -1.35351932e-02,  1.00064468e+00, -5.91344805e-03,\n",
       "        9.99929488e-01, -3.92335616e-02,  1.00064468e+00,  1.00062680e+00,\n",
       "        9.99691129e-01,  1.00064468e+00,  3.99666606e-03,  1.00460970e+00,\n",
       "        2.74826353e-03,  1.00064468e+00,  9.99691129e-01,  1.00062680e+00,\n",
       "        1.00062680e+00,  2.41547927e-01,  1.00062680e+00,  1.00424457e+00,\n",
       "        1.00062680e+00, -5.36113372e-03,  9.99408960e-01,  1.26272932e-01,\n",
       "       -2.25934740e-02, -5.56663089e-02,  1.00062680e+00,  9.98016179e-01,\n",
       "        7.40098506e-02, -2.85359826e-02,  1.00062680e+00,  2.61868257e-02,\n",
       "        9.98016179e-01,  1.00062680e+00,  1.00062680e+00,  3.21057051e-01,\n",
       "        1.00062680e+00, -6.95665926e-02,  1.00373197e+00,  1.00064468e+00,\n",
       "        1.05091929e-01,  9.99691129e-01,  3.28730047e-02,  1.85330227e-01,\n",
       "       -3.94659638e-02, -1.21075269e-02,  9.99691129e-01,  1.00064468e+00,\n",
       "        1.22832812e-01,  6.40670769e-03, -5.61186336e-02,  1.00064468e+00,\n",
       "        1.00062680e+00,  3.06385420e-02, -1.66449193e-02,  9.99691129e-01,\n",
       "        1.70992568e-01, -1.69715323e-02,  2.02176794e-01,  4.43095006e-02,\n",
       "       -4.45021242e-02,  1.00064468e+00,  4.76806276e-02,  9.32827219e-02,\n",
       "       -2.67801788e-02,  9.99203622e-01, -2.23876182e-02,  2.38831565e-01,\n",
       "        9.99691129e-01,  1.00064468e+00,  9.99691129e-01, -2.83346120e-02,\n",
       "        1.00064468e+00,  2.91578561e-01,  1.00373197e+00,  1.00062680e+00,\n",
       "        9.97279704e-01,  1.00022972e+00,  1.00064468e+00,  1.00062680e+00,\n",
       "        1.00064468e+00,  9.99203622e-01,  2.78862640e-02,  3.22579831e-01,\n",
       "       -1.26565993e-03, -2.60528754e-02,  1.00062680e+00, -4.81417924e-02,\n",
       "       -8.22083466e-03,  2.80601289e-02,  2.49760039e-02,  1.00212276e+00,\n",
       "        9.99203622e-01,  1.71718553e-01, -3.06259338e-02,  4.24887061e-01,\n",
       "        4.32136327e-01,  1.00064468e+00,  9.97474268e-02,  9.99691129e-01,\n",
       "       -1.49497436e-02,  2.99274474e-01,  1.60709441e-01, -8.97968411e-02,\n",
       "       -3.75066623e-02,  9.62290704e-01,  1.00141895e+00,  9.99691129e-01,\n",
       "        1.39602944e-02,  5.09433821e-02,  9.94078517e-01,  1.00064468e+00,\n",
       "       -2.54203547e-02, -2.39335261e-02,  1.00062680e+00,  9.99691129e-01,\n",
       "        3.79686266e-01, -4.39728126e-02, -6.27544969e-02,  3.09029575e-02,\n",
       "        1.00062680e+00,  3.73166054e-02,  1.00062680e+00,  5.47577024e-01,\n",
       "        7.37616718e-02,  1.25132814e-01,  6.98189080e-01,  1.00051486e+00,\n",
       "        1.00146866e+00,  2.02172756e-01,  9.99408960e-01,  1.00062680e+00,\n",
       "        1.36951089e-01,  4.87263203e-02,  5.44972643e-02,  1.00062680e+00,\n",
       "        1.00062680e+00,  3.10591131e-01,  3.95619482e-01,  1.00051486e+00,\n",
       "        9.97062385e-01,  1.00064468e+00,  7.23463595e-02,  4.05619800e-01,\n",
       "        9.99691129e-01,  5.74224861e-03,  1.00062680e+00,  1.40451983e-01,\n",
       "        1.00051486e+00,  5.41346893e-02,  6.98712543e-02,  4.17561531e-01,\n",
       "        1.00468576e+00,  1.00064468e+00, -1.97284520e-02,  3.64128202e-02,\n",
       "        1.00062680e+00,  6.61787212e-01,  1.00128186e+00,  3.87122110e-02,\n",
       "       -1.13333717e-01,  1.00062680e+00,  5.36540568e-01,  1.00062680e+00,\n",
       "        2.09924504e-02, -3.21681648e-02, -1.67937186e-02,  6.82905734e-01,\n",
       "        4.03363723e-03,  9.97062385e-01,  1.04357469e+00,  1.00064468e+00,\n",
       "        1.00064468e+00,  1.19751533e-02, -1.55825084e-02,  1.00064468e+00,\n",
       "        2.63499115e-02,  1.00141895e+00,  2.42863260e-02, -2.80770976e-02,\n",
       "        1.00064468e+00, -1.99538227e-02,  1.59363791e-01,  4.27428223e-02,\n",
       "       -1.67183373e-02,  1.00064468e+00,  3.89569491e-01,  1.00064468e+00,\n",
       "        1.81088209e-01,  9.99691129e-01,  9.99203622e-01,  1.78945996e-02,\n",
       "        2.87928432e-01, -2.38236263e-02,  9.99408960e-01,  1.00064468e+00,\n",
       "        1.00064468e+00, -2.54360009e-02,  3.19845527e-01,  9.99691129e-01,\n",
       "        9.97062385e-01,  3.59102804e-03,  6.00008629e-02,  9.49801624e-01,\n",
       "        1.00051486e+00,  9.63247776e-01,  1.00062680e+00,  9.97062385e-01,\n",
       "        1.25474036e-01,  1.15328960e-01, -7.49920830e-02,  9.99691129e-01,\n",
       "        1.00062680e+00, -2.61718547e-03,  8.31541345e-02,  9.97601211e-01,\n",
       "       -8.28801747e-03,  7.73100629e-02, -2.36424711e-02, -5.13974763e-02,\n",
       "        9.99691129e-01,  1.00051486e+00,  3.58415040e-04,  1.00062680e+00,\n",
       "        9.99691129e-01,  9.99691129e-01,  1.06784366e-01,  6.68037593e-01,\n",
       "        1.00064468e+00,  2.92343460e-02, -1.75805055e-02,  1.00064468e+00,\n",
       "        1.55547351e-01,  1.00064468e+00,  1.04562387e-01,  1.01301707e-01,\n",
       "        9.97062385e-01,  8.20997000e-01,  1.00064468e+00,  5.15785456e-01,\n",
       "        9.99691129e-01,  1.00062680e+00,  1.00064468e+00,  3.46235279e-03,\n",
       "        1.00064468e+00,  3.20460916e-01,  9.99478161e-01,  1.00062680e+00,\n",
       "        1.00062680e+00,  1.00064468e+00,  1.00062680e+00,  4.47031520e-02,\n",
       "       -2.86553241e-02,  2.89830804e-01,  4.86351456e-03,  9.99929488e-01,\n",
       "       -6.91939816e-02,  1.00064468e+00, -1.39187977e-01,  9.77404043e-03,\n",
       "        1.31816521e-01,  1.00062680e+00,  5.09315468e-02,  1.00064468e+00,\n",
       "        6.42338276e-01,  1.00373197e+00,  2.82698963e-02,  9.99402940e-01,\n",
       "        4.95487265e-02,  7.22091675e-01,  1.00064468e+00,  2.53852755e-01,\n",
       "       -1.82589348e-02,  1.00062680e+00, -2.44035795e-02,  9.99203622e-01,\n",
       "        1.00062680e+00, -1.46823693e-02,  9.99408960e-01,  1.00146866e+00,\n",
       "        1.00022972e+00,  1.00062680e+00,  9.50203985e-02,  1.83440316e-02,\n",
       "        9.99691129e-01,  1.00062680e+00,  9.99691129e-01,  7.76515976e-02,\n",
       "        6.10055327e-02,  1.00064468e+00, -2.11991798e-02,  9.99691129e-01,\n",
       "        1.00064468e+00,  1.00062680e+00,  4.04488780e-02,  1.00022972e+00,\n",
       "       -1.27472905e-02, -3.73523496e-03,  1.29102439e-01,  1.30463171e+00,\n",
       "        1.00062680e+00,  1.00064468e+00,  2.99431622e-01,  1.94582343e-01,\n",
       "        1.00064468e+00,  1.00064468e+00,  1.00064468e+00,  1.00064468e+00,\n",
       "        1.00062680e+00,  1.40858814e-01, -1.42167155e-02,  5.56984544e-03,\n",
       "       -4.04137932e-03,  1.00064468e+00,  1.00064468e+00,  4.93832584e-03,\n",
       "        1.00062680e+00,  3.12166870e-01,  3.66930552e-02,  9.99691129e-01,\n",
       "        1.00062680e+00,  1.00062680e+00,  5.59253879e-02,  2.89158344e-01,\n",
       "        1.11692809e-02,  6.44634366e-02,  1.00062680e+00,  1.00022972e+00,\n",
       "        9.99203622e-01,  9.98016179e-01,  9.99691129e-01,  1.00064468e+00,\n",
       "        9.99691129e-01,  1.00062680e+00,  1.00062680e+00,  1.00051486e+00,\n",
       "        9.99402940e-01,  9.99691129e-01,  1.13326719e-03,  5.54818399e-02,\n",
       "        1.59320563e-01,  1.00062680e+00, -7.34865367e-02,  1.00064468e+00,\n",
       "        1.62531361e-01], dtype=float32)"
      ]
     },
     "execution_count": 32,
     "metadata": {},
     "output_type": "execute_result"
    }
   ],
   "source": [
    "preds"
   ]
  },
  {
   "cell_type": "code",
   "execution_count": 33,
   "id": "7c73582f",
   "metadata": {},
   "outputs": [],
   "source": [
    "params = {\"objective\": \"reg:squarederror\", \"tree_method\": \"gpu_hist\"}\n",
    "n = 1000\n",
    "\n",
    "results = xgb.cv(\n",
    "   params, dtrain_reg,\n",
    "   num_boost_round=n,\n",
    "   nfold=5,\n",
    "   early_stopping_rounds=20\n",
    ")"
   ]
  },
  {
   "cell_type": "code",
   "execution_count": 34,
   "id": "b0091ef2",
   "metadata": {},
   "outputs": [
    {
     "data": {
      "text/plain": [
       "<bound method NDFrame.head of    train-rmse-mean  train-rmse-std  test-rmse-mean  test-rmse-std\n",
       "0         0.373920        0.001345        0.383829       0.002439\n",
       "1         0.289686        0.002438        0.311784       0.004108\n",
       "2         0.234184        0.003205        0.270904       0.005658\n",
       "3         0.199285        0.003480        0.248091       0.005765\n",
       "4         0.175882        0.002798        0.237126       0.006264\n",
       "5         0.161712        0.003584        0.232286       0.006888\n",
       "6         0.152291        0.004539        0.228159       0.006809\n",
       "7         0.145185        0.004365        0.227208       0.007351>"
      ]
     },
     "execution_count": 34,
     "metadata": {},
     "output_type": "execute_result"
    }
   ],
   "source": [
    "results.head"
   ]
  },
  {
   "cell_type": "code",
   "execution_count": 36,
   "id": "7d0b1e24",
   "metadata": {},
   "outputs": [],
   "source": [
    "seed = 7\n",
    "test_size = 0.33\n",
    "X_train, X_test, y_train, y_test = train_test_split(X, y, test_size=test_size, random_state=seed)"
   ]
  },
  {
   "cell_type": "code",
   "execution_count": 39,
   "id": "c11e4346",
   "metadata": {},
   "outputs": [
    {
     "data": {
      "text/html": [
       "<style>#sk-container-id-1 {color: black;background-color: white;}#sk-container-id-1 pre{padding: 0;}#sk-container-id-1 div.sk-toggleable {background-color: white;}#sk-container-id-1 label.sk-toggleable__label {cursor: pointer;display: block;width: 100%;margin-bottom: 0;padding: 0.3em;box-sizing: border-box;text-align: center;}#sk-container-id-1 label.sk-toggleable__label-arrow:before {content: \"▸\";float: left;margin-right: 0.25em;color: #696969;}#sk-container-id-1 label.sk-toggleable__label-arrow:hover:before {color: black;}#sk-container-id-1 div.sk-estimator:hover label.sk-toggleable__label-arrow:before {color: black;}#sk-container-id-1 div.sk-toggleable__content {max-height: 0;max-width: 0;overflow: hidden;text-align: left;background-color: #f0f8ff;}#sk-container-id-1 div.sk-toggleable__content pre {margin: 0.2em;color: black;border-radius: 0.25em;background-color: #f0f8ff;}#sk-container-id-1 input.sk-toggleable__control:checked~div.sk-toggleable__content {max-height: 200px;max-width: 100%;overflow: auto;}#sk-container-id-1 input.sk-toggleable__control:checked~label.sk-toggleable__label-arrow:before {content: \"▾\";}#sk-container-id-1 div.sk-estimator input.sk-toggleable__control:checked~label.sk-toggleable__label {background-color: #d4ebff;}#sk-container-id-1 div.sk-label input.sk-toggleable__control:checked~label.sk-toggleable__label {background-color: #d4ebff;}#sk-container-id-1 input.sk-hidden--visually {border: 0;clip: rect(1px 1px 1px 1px);clip: rect(1px, 1px, 1px, 1px);height: 1px;margin: -1px;overflow: hidden;padding: 0;position: absolute;width: 1px;}#sk-container-id-1 div.sk-estimator {font-family: monospace;background-color: #f0f8ff;border: 1px dotted black;border-radius: 0.25em;box-sizing: border-box;margin-bottom: 0.5em;}#sk-container-id-1 div.sk-estimator:hover {background-color: #d4ebff;}#sk-container-id-1 div.sk-parallel-item::after {content: \"\";width: 100%;border-bottom: 1px solid gray;flex-grow: 1;}#sk-container-id-1 div.sk-label:hover label.sk-toggleable__label {background-color: #d4ebff;}#sk-container-id-1 div.sk-serial::before {content: \"\";position: absolute;border-left: 1px solid gray;box-sizing: border-box;top: 0;bottom: 0;left: 50%;z-index: 0;}#sk-container-id-1 div.sk-serial {display: flex;flex-direction: column;align-items: center;background-color: white;padding-right: 0.2em;padding-left: 0.2em;position: relative;}#sk-container-id-1 div.sk-item {position: relative;z-index: 1;}#sk-container-id-1 div.sk-parallel {display: flex;align-items: stretch;justify-content: center;background-color: white;position: relative;}#sk-container-id-1 div.sk-item::before, #sk-container-id-1 div.sk-parallel-item::before {content: \"\";position: absolute;border-left: 1px solid gray;box-sizing: border-box;top: 0;bottom: 0;left: 50%;z-index: -1;}#sk-container-id-1 div.sk-parallel-item {display: flex;flex-direction: column;z-index: 1;position: relative;background-color: white;}#sk-container-id-1 div.sk-parallel-item:first-child::after {align-self: flex-end;width: 50%;}#sk-container-id-1 div.sk-parallel-item:last-child::after {align-self: flex-start;width: 50%;}#sk-container-id-1 div.sk-parallel-item:only-child::after {width: 0;}#sk-container-id-1 div.sk-dashed-wrapped {border: 1px dashed gray;margin: 0 0.4em 0.5em 0.4em;box-sizing: border-box;padding-bottom: 0.4em;background-color: white;}#sk-container-id-1 div.sk-label label {font-family: monospace;font-weight: bold;display: inline-block;line-height: 1.2em;}#sk-container-id-1 div.sk-label-container {text-align: center;}#sk-container-id-1 div.sk-container {/* jupyter's `normalize.less` sets `[hidden] { display: none; }` but bootstrap.min.css set `[hidden] { display: none !important; }` so we also need the `!important` here to be able to override the default hidden behavior on the sphinx rendered scikit-learn.org. See: https://github.com/scikit-learn/scikit-learn/issues/21755 */display: inline-block !important;position: relative;}#sk-container-id-1 div.sk-text-repr-fallback {display: none;}</style><div id=\"sk-container-id-1\" class=\"sk-top-container\"><div class=\"sk-text-repr-fallback\"><pre>XGBClassifier(base_score=None, booster=None, callbacks=None,\n",
       "              colsample_bylevel=None, colsample_bynode=None,\n",
       "              colsample_bytree=None, early_stopping_rounds=None,\n",
       "              enable_categorical=False, eval_metric=None, feature_types=None,\n",
       "              gamma=None, gpu_id=None, grow_policy=None, importance_type=None,\n",
       "              interaction_constraints=None, learning_rate=None, max_bin=None,\n",
       "              max_cat_threshold=None, max_cat_to_onehot=None,\n",
       "              max_delta_step=None, max_depth=None, max_leaves=None,\n",
       "              min_child_weight=None, missing=nan, monotone_constraints=None,\n",
       "              n_estimators=100, n_jobs=None, num_parallel_tree=None,\n",
       "              predictor=None, random_state=None, ...)</pre><b>In a Jupyter environment, please rerun this cell to show the HTML representation or trust the notebook. <br />On GitHub, the HTML representation is unable to render, please try loading this page with nbviewer.org.</b></div><div class=\"sk-container\" hidden><div class=\"sk-item\"><div class=\"sk-estimator sk-toggleable\"><input class=\"sk-toggleable__control sk-hidden--visually\" id=\"sk-estimator-id-1\" type=\"checkbox\" checked><label for=\"sk-estimator-id-1\" class=\"sk-toggleable__label sk-toggleable__label-arrow\">XGBClassifier</label><div class=\"sk-toggleable__content\"><pre>XGBClassifier(base_score=None, booster=None, callbacks=None,\n",
       "              colsample_bylevel=None, colsample_bynode=None,\n",
       "              colsample_bytree=None, early_stopping_rounds=None,\n",
       "              enable_categorical=False, eval_metric=None, feature_types=None,\n",
       "              gamma=None, gpu_id=None, grow_policy=None, importance_type=None,\n",
       "              interaction_constraints=None, learning_rate=None, max_bin=None,\n",
       "              max_cat_threshold=None, max_cat_to_onehot=None,\n",
       "              max_delta_step=None, max_depth=None, max_leaves=None,\n",
       "              min_child_weight=None, missing=nan, monotone_constraints=None,\n",
       "              n_estimators=100, n_jobs=None, num_parallel_tree=None,\n",
       "              predictor=None, random_state=None, ...)</pre></div></div></div></div></div>"
      ],
      "text/plain": [
       "XGBClassifier(base_score=None, booster=None, callbacks=None,\n",
       "              colsample_bylevel=None, colsample_bynode=None,\n",
       "              colsample_bytree=None, early_stopping_rounds=None,\n",
       "              enable_categorical=False, eval_metric=None, feature_types=None,\n",
       "              gamma=None, gpu_id=None, grow_policy=None, importance_type=None,\n",
       "              interaction_constraints=None, learning_rate=None, max_bin=None,\n",
       "              max_cat_threshold=None, max_cat_to_onehot=None,\n",
       "              max_delta_step=None, max_depth=None, max_leaves=None,\n",
       "              min_child_weight=None, missing=nan, monotone_constraints=None,\n",
       "              n_estimators=100, n_jobs=None, num_parallel_tree=None,\n",
       "              predictor=None, random_state=None, ...)"
      ]
     },
     "execution_count": 39,
     "metadata": {},
     "output_type": "execute_result"
    }
   ],
   "source": [
    "# fit model no training data\n",
    "model = XGBClassifier()\n",
    "model.fit(X_train, y_train)"
   ]
  },
  {
   "cell_type": "code",
   "execution_count": 41,
   "id": "8b21d587",
   "metadata": {},
   "outputs": [],
   "source": [
    "\n",
    "# make predictions for test data\n",
    "y_pred = model.predict(X_test)\n",
    "predictions = [round(value) for value in y_pred]"
   ]
  },
  {
   "cell_type": "code",
   "execution_count": 42,
   "id": "d79746d2",
   "metadata": {},
   "outputs": [
    {
     "name": "stdout",
     "output_type": "stream",
     "text": [
      "Accuracy: 93.76%\n"
     ]
    }
   ],
   "source": [
    "# evaluate predictions\n",
    "accuracy = accuracy_score(y_test, predictions)\n",
    "print(\"Accuracy: %.2f%%\" % (accuracy * 100.0))"
   ]
  },
  {
   "cell_type": "code",
   "execution_count": 43,
   "id": "754462c2",
   "metadata": {},
   "outputs": [],
   "source": [
    "def plot_confusion_matrix(cm, title='Confusion matrix', cmap=plt.cm.Blues):\n",
    "    target_names=['Fake','Genuine']\n",
    "    plt.imshow(cm, interpolation='nearest', cmap=cmap)\n",
    "    plt.title(title)\n",
    "    plt.colorbar()\n",
    "    tick_marks = np.arange(len(target_names))\n",
    "    plt.xticks(tick_marks, target_names, rotation=45)\n",
    "    plt.yticks(tick_marks, target_names)\n",
    "    plt.tight_layout()\n",
    "    plt.ylabel('True label')\n",
    "    plt.xlabel('Predicted label')"
   ]
  },
  {
   "cell_type": "code",
   "execution_count": 44,
   "id": "57977bd4",
   "metadata": {},
   "outputs": [
    {
     "data": {
      "image/png": "[encoded data removed]",
      "text/plain": [
       "<Figure size 640x480 with 2 Axes>"
      ]
     },
     "metadata": {},
     "output_type": "display_data"
    }
   ],
   "source": [
    "cm=confusion_matrix(y_test, y_pred)\n",
    "plot_confusion_matrix(cm)"
   ]
  },
  {
   "cell_type": "code",
   "execution_count": 45,
   "id": "99108f2e",
   "metadata": {},
   "outputs": [
    {
     "name": "stdout",
     "output_type": "stream",
     "text": [
      "              precision    recall  f1-score   support\n",
      "\n",
      "        Fake       0.90      0.97      0.94       438\n",
      "     Genuine       0.97      0.91      0.94       492\n",
      "\n",
      "    accuracy                           0.94       930\n",
      "   macro avg       0.94      0.94      0.94       930\n",
      "weighted avg       0.94      0.94      0.94       930\n",
      "\n"
     ]
    }
   ],
   "source": [
    "print(classification_report(y_test, y_pred, target_names=['Fake','Genuine']))"
   ]
  },
  {
   "cell_type": "code",
   "execution_count": 46,
   "id": "37b7a6a8",
   "metadata": {},
   "outputs": [],
   "source": [
    "def plot_roc_curve(y_test, y_pred):\n",
    "    false_positive_rate, true_positive_rate, thresholds = roc_curve(y_test, y_pred)\n",
    "\n",
    "    print (\"False Positive rate: \",false_positive_rate)\n",
    "    print (\"True Positive rate: \",true_positive_rate)\n",
    "\n",
    "\n",
    "    roc_auc = auc(false_positive_rate, true_positive_rate)\n",
    "\n",
    "    plt.title('Receiver Operating Characteristic')\n",
    "    plt.plot(false_positive_rate, true_positive_rate, 'b',\n",
    "    label='AUC = %0.2f'% roc_auc)\n",
    "    plt.legend(loc='lower right')\n",
    "    plt.plot([0,1],[0,1],'r--')\n",
    "    plt.xlim([-0.1,1.2])\n",
    "    plt.ylim([-0.1,1.2])\n",
    "    plt.ylabel('True Positive Rate')\n",
    "    plt.xlabel('False Positive Rate')\n",
    "    plt.show() "
   ]
  },
  {
   "cell_type": "code",
   "execution_count": 47,
   "id": "bbbf65f9",
   "metadata": {},
   "outputs": [
    {
     "name": "stdout",
     "output_type": "stream",
     "text": [
      "False Positive rate:  [0.         0.02968037 1.        ]\n",
      "True Positive rate:  [0.         0.90853659 1.        ]\n"
     ]
    },
    {
     "data": {
      "image/png": "[encoded data removed]",
      "text/plain": [
       "<Figure size 640x480 with 1 Axes>"
      ]
     },
     "metadata": {},
     "output_type": "display_data"
    }
   ],
   "source": [
    " plot_roc_curve(y_test, y_pred)"
   ]
  },
  {
   "cell_type": "code",
   "execution_count": null,
   "id": "7dde0f6d",
   "metadata": {},
   "outputs": [],
   "source": []
  }
 ],
 "metadata": {
  "kernelspec": {
   "display_name": "Python 3 (ipykernel)",
   "language": "python",
   "name": "python3"
  },
  "language_info": {
   "codemirror_mode": {
    "name": "ipython",
    "version": 3
   },
   "file_extension": ".py",
   "mimetype": "text/x-python",
   "name": "python",
   "nbconvert_exporter": "python",
   "pygments_lexer": "ipython3",
   "version": "3.10.1"
  }
 },
 "nbformat": 4,
 "nbformat_minor": 5
}
